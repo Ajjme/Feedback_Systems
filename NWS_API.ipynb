{
  "nbformat": 4,
  "nbformat_minor": 0,
  "metadata": {
    "colab": {
      "provenance": [],
      "authorship_tag": "ABX9TyMNJQiw1bA/dEIkGupkzGT2",
      "include_colab_link": true
    },
    "kernelspec": {
      "name": "python3",
      "display_name": "Python 3"
    },
    "language_info": {
      "name": "python"
    }
  },
  "cells": [
    {
      "cell_type": "markdown",
      "metadata": {
        "id": "view-in-github",
        "colab_type": "text"
      },
      "source": [
        "<a href=\"https://colab.research.google.com/github/Ajjme/Feedback_Systems/blob/main/NWS_API.ipynb\" target=\"_parent\"><img src=\"https://colab.research.google.com/assets/colab-badge.svg\" alt=\"Open In Colab\"/></a>"
      ]
    },
    {
      "cell_type": "code",
      "execution_count": null,
      "metadata": {
        "id": "RqiNSTyq-HNv"
      },
      "outputs": [],
      "source": []
    },
    {
      "cell_type": "code",
      "source": [
        "#libraries\n",
        "import requests\n",
        "from requests.exceptions import HTTPError, Timeout, RequestException\n",
        "import pandas as pd"
      ],
      "metadata": {
        "id": "P-hnIKLO-IIq"
      },
      "execution_count": 13,
      "outputs": []
    },
    {
      "cell_type": "code",
      "source": [
        "#Request Function\n",
        "def make_nws_request(endpoint, user_agent):\n",
        "    headers = {\n",
        "        \"User-Agent\": user_agent,\n",
        "        \"Accept\": \"application/geo+json\"  # recommended by NWS Geo Jsons are easier to map\n",
        "\n",
        "    }\n",
        "\n",
        "    try:\n",
        "        response = requests.get(\n",
        "                       endpoint,\n",
        "                       headers=headers\n",
        "                   )\n",
        "        # Raise HTTPError for bad responses (4xx or 5xx)\n",
        "        response.raise_for_status()\n",
        "        return response.json()\n",
        "\n",
        "    except HTTPError as http_err:\n",
        "        print(f\"HTTP error occurred: {http_err} - Status code: {response.status_code}\")\n",
        "    except Timeout as timeout_err:\n",
        "        print(f\"Request timed out: {timeout_err}\")\n",
        "    except RequestException as req_err:\n",
        "        print(f\"Request error: {req_err}\")\n",
        "\n",
        "    return None  # Return None if an error occurred"
      ],
      "metadata": {
        "id": "HY8uhEw6-9NR"
      },
      "execution_count": 9,
      "outputs": []
    },
    {
      "cell_type": "code",
      "source": [
        "if __name__ == \"__main__\":\n",
        "    # Sample user agent\n",
        "    user_agent = \"Weatherdata_collector/1.0\" # you can name this whatever you want\n",
        "    BASE_URL = \"https://api.weather.gov\"\n",
        "\n",
        "    # Get forecast for a specific location - Durham\n",
        "    lat, lon = 36.0, -79.0\n",
        "\n",
        "    #Put Params into a url String to acess API\n",
        "    forecast_url = f\"{BASE_URL}/points/{lat},{lon}\"\n",
        "\n",
        "    #run above function\n",
        "    data = make_nws_request(forecast_url, user_agent)\n",
        "\n",
        "    if data:\n",
        "        print(data)\n",
        "    else:\n",
        "        print(\"Failed to retrieve data.\")"
      ],
      "metadata": {
        "colab": {
          "base_uri": "https://localhost:8080/"
        },
        "id": "bbQTPqGVCIDz",
        "outputId": "ff6e8013-ede1-4ae5-ea6e-5f2ca64c627f"
      },
      "execution_count": 10,
      "outputs": [
        {
          "output_type": "stream",
          "name": "stdout",
          "text": [
            "{'@context': ['https://geojson.org/geojson-ld/geojson-context.jsonld', {'@version': '1.1', 'wx': 'https://api.weather.gov/ontology#', 's': 'https://schema.org/', 'geo': 'http://www.opengis.net/ont/geosparql#', 'unit': 'http://codes.wmo.int/common/unit/', '@vocab': 'https://api.weather.gov/ontology#', 'geometry': {'@id': 's:GeoCoordinates', '@type': 'geo:wktLiteral'}, 'city': 's:addressLocality', 'state': 's:addressRegion', 'distance': {'@id': 's:Distance', '@type': 's:QuantitativeValue'}, 'bearing': {'@type': 's:QuantitativeValue'}, 'value': {'@id': 's:value'}, 'unitCode': {'@id': 's:unitCode', '@type': '@id'}, 'forecastOffice': {'@type': '@id'}, 'forecastGridData': {'@type': '@id'}, 'publicZone': {'@type': '@id'}, 'county': {'@type': '@id'}}], 'id': 'https://api.weather.gov/points/36,-79', 'type': 'Feature', 'geometry': {'type': 'Point', 'coordinates': [-79, 36]}, 'properties': {'@id': 'https://api.weather.gov/points/36,-79', '@type': 'wx:Point', 'cwa': 'RAH', 'forecastOffice': 'https://api.weather.gov/offices/RAH', 'gridId': 'RAH', 'gridX': 60, 'gridY': 66, 'forecast': 'https://api.weather.gov/gridpoints/RAH/60,66/forecast', 'forecastHourly': 'https://api.weather.gov/gridpoints/RAH/60,66/forecast/hourly', 'forecastGridData': 'https://api.weather.gov/gridpoints/RAH/60,66', 'observationStations': 'https://api.weather.gov/gridpoints/RAH/60,66/stations', 'relativeLocation': {'type': 'Feature', 'geometry': {'type': 'Point', 'coordinates': [-79.03742, 35.92812]}, 'properties': {'city': 'Chapel Hill', 'state': 'NC', 'distance': {'unitCode': 'wmoUnit:m', 'value': 8673.2514368569}, 'bearing': {'unitCode': 'wmoUnit:degree_(angle)', 'value': 22}}}, 'forecastZone': 'https://api.weather.gov/zones/forecast/NCZ024', 'county': 'https://api.weather.gov/zones/county/NCC135', 'fireWeatherZone': 'https://api.weather.gov/zones/fire/NCZ024', 'timeZone': 'America/New_York', 'radarStation': 'KRAX'}}\n"
          ]
        }
      ]
    },
    {
      "cell_type": "markdown",
      "source": [
        "This shows us all the options from NWS for the point that we entered."
      ],
      "metadata": {
        "id": "eT5dOGTjD5xV"
      }
    },
    {
      "cell_type": "code",
      "source": [
        "if __name__ == \"__main__\":\n",
        "    # Sample user agent\n",
        "    user_agent = \"Weatherdata_collector/1.0\" # you can name this whatever you want\n",
        "    BASE_URL = \"https://api.weather.gov\"\n",
        "\n",
        "    # Get forecast for a specific location - Durham\n",
        "    lat, lon = 36.0, -79.0\n",
        "    point_url = f\"{BASE_URL}/points/{lat},{lon}\"\n",
        "    point_data = make_nws_request(point_url, user_agent)\n",
        "\n",
        "    if point_data:\n",
        "        # Step 2: Extract forecast URL\n",
        "        forecast_url = point_data[\"properties\"][\"forecast\"]\n",
        "\n",
        "        # Step 3: Call forecast endpoint\n",
        "        forecast_data = make_nws_request(forecast_url, user_agent)\n",
        "\n",
        "        if forecast_data:\n",
        "            # Step 4: Put into DataFrame\n",
        "            periods = forecast_data[\"properties\"][\"periods\"]\n",
        "\n",
        "            df = pd.DataFrame(periods)[\n",
        "                [\"name\", \"startTime\", \"endTime\", \"isDaytime\",\n",
        "                 \"temperature\", \"temperatureUnit\", \"windSpeed\",\n",
        "                 \"windDirection\", \"shortForecast\", \"detailedForecast\"]\n",
        "            ]\n",
        "\n",
        "            print(\"\\n7-Day Forecast DataFrame:\\n\")\n",
        "            print(df)\n",
        "        else:\n",
        "            print(\"Failed to retrieve forecast data.\")\n",
        "    else:\n",
        "        print(\"Failed to retrieve point metadata.\")"
      ],
      "metadata": {
        "colab": {
          "base_uri": "https://localhost:8080/"
        },
        "id": "oZf2e5UTEGYy",
        "outputId": "7ccb1a9b-92b6-4f66-8d6e-c3cc4eb094e4"
      },
      "execution_count": 14,
      "outputs": [
        {
          "output_type": "stream",
          "name": "stdout",
          "text": [
            "\n",
            "7-Day Forecast DataFrame:\n",
            "\n",
            "               name                  startTime                    endTime  \\\n",
            "0    This Afternoon  2025-08-22T14:00:00-04:00  2025-08-22T18:00:00-04:00   \n",
            "1           Tonight  2025-08-22T18:00:00-04:00  2025-08-23T06:00:00-04:00   \n",
            "2          Saturday  2025-08-23T06:00:00-04:00  2025-08-23T18:00:00-04:00   \n",
            "3    Saturday Night  2025-08-23T18:00:00-04:00  2025-08-24T06:00:00-04:00   \n",
            "4            Sunday  2025-08-24T06:00:00-04:00  2025-08-24T18:00:00-04:00   \n",
            "5      Sunday Night  2025-08-24T18:00:00-04:00  2025-08-25T06:00:00-04:00   \n",
            "6            Monday  2025-08-25T06:00:00-04:00  2025-08-25T18:00:00-04:00   \n",
            "7      Monday Night  2025-08-25T18:00:00-04:00  2025-08-26T06:00:00-04:00   \n",
            "8           Tuesday  2025-08-26T06:00:00-04:00  2025-08-26T18:00:00-04:00   \n",
            "9     Tuesday Night  2025-08-26T18:00:00-04:00  2025-08-27T06:00:00-04:00   \n",
            "10        Wednesday  2025-08-27T06:00:00-04:00  2025-08-27T18:00:00-04:00   \n",
            "11  Wednesday Night  2025-08-27T18:00:00-04:00  2025-08-28T06:00:00-04:00   \n",
            "12         Thursday  2025-08-28T06:00:00-04:00  2025-08-28T18:00:00-04:00   \n",
            "13   Thursday Night  2025-08-28T18:00:00-04:00  2025-08-29T06:00:00-04:00   \n",
            "\n",
            "    isDaytime  temperature temperatureUnit   windSpeed windDirection  \\\n",
            "0        True           82               F       5 mph            NE   \n",
            "1       False           65               F       3 mph             E   \n",
            "2        True           83               F       5 mph             E   \n",
            "3       False           66               F       3 mph             E   \n",
            "4        True           85               F       2 mph             E   \n",
            "5       False           69               F       2 mph            SW   \n",
            "6        True           84               F  2 to 6 mph            NW   \n",
            "7       False           62               F       5 mph            NW   \n",
            "8        True           79               F       6 mph            NW   \n",
            "9       False           60               F       5 mph            NW   \n",
            "10       True           78               F       6 mph             N   \n",
            "11      False           57               F       3 mph            NE   \n",
            "12       True           79               F       3 mph             E   \n",
            "13      False           59               F       3 mph             S   \n",
            "\n",
            "    shortForecast                                   detailedForecast  \n",
            "0    Partly Sunny  Partly sunny, with a high near 82. Northeast w...  \n",
            "1   Partly Cloudy  Partly cloudy, with a low around 65. East wind...  \n",
            "2    Partly Sunny  Partly sunny, with a high near 83. East wind a...  \n",
            "3   Mostly Cloudy  Mostly cloudy, with a low around 66. East wind...  \n",
            "4    Mostly Sunny  Mostly sunny, with a high near 85. East wind a...  \n",
            "5   Partly Cloudy               Partly cloudy, with a low around 69.  \n",
            "6           Sunny                        Sunny, with a high near 84.  \n",
            "7   Partly Cloudy               Partly cloudy, with a low around 62.  \n",
            "8    Mostly Sunny                 Mostly sunny, with a high near 79.  \n",
            "9   Partly Cloudy               Partly cloudy, with a low around 60.  \n",
            "10          Sunny                        Sunny, with a high near 78.  \n",
            "11   Mostly Clear                Mostly clear, with a low around 57.  \n",
            "12          Sunny                        Sunny, with a high near 79.  \n",
            "13  Partly Cloudy               Partly cloudy, with a low around 59.  \n"
          ]
        }
      ]
    }
  ]
}